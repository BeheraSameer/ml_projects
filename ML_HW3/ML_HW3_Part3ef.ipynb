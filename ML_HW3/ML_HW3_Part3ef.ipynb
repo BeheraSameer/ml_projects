{
 "cells": [
  {
   "cell_type": "markdown",
   "metadata": {},
   "source": [
    "# e) Face Recognition"
   ]
  },
  {
   "cell_type": "markdown",
   "metadata": {},
   "source": [
    "### Dataset"
   ]
  },
  {
   "cell_type": "code",
   "execution_count": 160,
   "metadata": {},
   "outputs": [],
   "source": [
    "import os\n",
    "import pandas as pd\n",
    "import numpy as np\n",
    "from skimage import io\n",
    "from sklearn.metrics import accuracy_score"
   ]
  },
  {
   "cell_type": "code",
   "execution_count": 161,
   "metadata": {},
   "outputs": [],
   "source": [
    "def import_image(filename):\n",
    "    image = io.imread('yalefaces/' +filename, as_grey = True)\n",
    "    image_flat = [item for sub in image for item in sub]\n",
    "    return image_flat"
   ]
  },
  {
   "cell_type": "code",
   "execution_count": 162,
   "metadata": {},
   "outputs": [],
   "source": [
    "list_of_images = os.listdir('yalefaces')\n",
    "data = pd.DataFrame(list_of_images)"
   ]
  },
  {
   "cell_type": "code",
   "execution_count": 163,
   "metadata": {},
   "outputs": [],
   "source": [
    "data = []\n",
    "for title in list_of_images:\n",
    "    row = {}\n",
    "    row['filename'] = title\n",
    "    row['subject'] = title.split('.')[0]\n",
    "    row['expression'] = title.split('.')[1]\n",
    "    row['flat'] = import_image(title)\n",
    "    data.append(row)\n",
    "data = pd.DataFrame.from_records(data)"
   ]
  },
  {
   "cell_type": "code",
   "execution_count": 164,
   "metadata": {},
   "outputs": [],
   "source": [
    "for row in range(data['flat'].count()):\n",
    "    entries = len(data['flat'][0])\n",
    "    numerator = 0\n",
    "    for entry in data['flat'][row]:\n",
    "        numerator += entry\n",
    "    mean = numerator/entries\n",
    "    data['flat'][row] = data['flat'][row] / mean"
   ]
  },
  {
   "cell_type": "markdown",
   "metadata": {},
   "source": [
    "### Train/Test Split"
   ]
  },
  {
   "cell_type": "code",
   "execution_count": 165,
   "metadata": {},
   "outputs": [],
   "source": [
    "from sklearn.model_selection import train_test_split\n",
    "train, test = train_test_split(data, test_size=0.33)\n",
    "#print (train,test)"
   ]
  },
  {
   "cell_type": "code",
   "execution_count": 166,
   "metadata": {},
   "outputs": [],
   "source": [
    "y_train, y_test = [], []\n",
    "for ids in train['subject']:\n",
    "    y_train.append(ids[7:9])\n",
    "#print(y_train)\n",
    "for ids in test['subject']:\n",
    "    y_test.append(ids[7:9])\n",
    "#print(y_test)"
   ]
  },
  {
   "cell_type": "markdown",
   "metadata": {},
   "source": [
    "### i) AdaBoost: Base Estimator - DecisionTreeClassifier"
   ]
  },
  {
   "cell_type": "code",
   "execution_count": 167,
   "metadata": {},
   "outputs": [
    {
     "data": {
      "text/plain": [
       "AdaBoostClassifier(algorithm='SAMME.R', base_estimator=None,\n",
       "          learning_rate=0.1, n_estimators=50, random_state=0)"
      ]
     },
     "execution_count": 167,
     "metadata": {},
     "output_type": "execute_result"
    }
   ],
   "source": [
    "from sklearn.ensemble import AdaBoostClassifier\n",
    "A = train['flat'].values.tolist()\n",
    "B = test['flat'].values.tolist()\n",
    "clf = AdaBoostClassifier(n_estimators=50, learning_rate=0.1,random_state=0)\n",
    "clf.fit(A,y_train)"
   ]
  },
  {
   "cell_type": "code",
   "execution_count": 168,
   "metadata": {},
   "outputs": [
    {
     "name": "stdout",
     "output_type": "stream",
     "text": [
      "AdaBoost Accuracy: 65.45454545454545 %\n"
     ]
    }
   ],
   "source": [
    "pred = clf.predict(B)\n",
    "\n",
    "count = 0\n",
    "for i in range(len(pred)):\n",
    "    if pred[i] == y_test[i]:\n",
    "        count += 1\n",
    "print(\"AdaBoost Accuracy:\", (accuracy_score(pred, y_test))*100,\"%\")"
   ]
  },
  {
   "cell_type": "markdown",
   "metadata": {},
   "source": [
    "### ii) Support Vector Machines: Kernel - Linear"
   ]
  },
  {
   "cell_type": "code",
   "execution_count": 169,
   "metadata": {},
   "outputs": [
    {
     "data": {
      "text/plain": [
       "SVC(C=100000, cache_size=200, class_weight=None, coef0=0.0,\n",
       "  decision_function_shape='ovr', degree=3, gamma='auto', kernel='linear',\n",
       "  max_iter=-1, probability=False, random_state=None, shrinking=True,\n",
       "  tol=0.001, verbose=False)"
      ]
     },
     "execution_count": 169,
     "metadata": {},
     "output_type": "execute_result"
    }
   ],
   "source": [
    "from sklearn import svm\n",
    "A = train['flat'].values.tolist()\n",
    "B = test['flat'].values.tolist()\n",
    "clf = svm.SVC(kernel=\"linear\", C=100000)\n",
    "clf.fit(A,y_train)"
   ]
  },
  {
   "cell_type": "code",
   "execution_count": 170,
   "metadata": {},
   "outputs": [
    {
     "name": "stdout",
     "output_type": "stream",
     "text": [
      "SVM Accuracy: 81.81818181818183 %\n"
     ]
    }
   ],
   "source": [
    "pred = clf.predict(B)\n",
    "\n",
    "count = 0\n",
    "for i in range(len(pred)):\n",
    "    if pred[i] == y_test[i]:\n",
    "        count += 1\n",
    "print(\"SVM Accuracy:\", (accuracy_score(pred, y_test))*100,\"%\")"
   ]
  },
  {
   "cell_type": "markdown",
   "metadata": {},
   "source": [
    "# f) Pose Recognition"
   ]
  },
  {
   "cell_type": "code",
   "execution_count": 155,
   "metadata": {},
   "outputs": [
    {
     "data": {
      "text/plain": [
       "glasses        16\n",
       "noglasses      15\n",
       "wink           15\n",
       "sad            15\n",
       "leftlight      15\n",
       "normal         15\n",
       "happy          15\n",
       "surprised      15\n",
       "rightlight     15\n",
       "sleepy         15\n",
       "centerlight    14\n",
       "gif             1\n",
       "Name: expression, dtype: int64"
      ]
     },
     "execution_count": 155,
     "metadata": {},
     "output_type": "execute_result"
    }
   ],
   "source": [
    "data['expression'].value_counts()"
   ]
  },
  {
   "cell_type": "markdown",
   "metadata": {},
   "source": [
    "### Replacing Categorical Poses with Hot-Encoding"
   ]
  },
  {
   "cell_type": "code",
   "execution_count": null,
   "metadata": {},
   "outputs": [],
   "source": [
    "expression = {'glasses        ' : 0, 'noglasses      ' : 1,'wink           ' : 2,\n",
    "              'sad            ' : 3,'leftlight      ' : 4, 'normal         ' : 5,'happy          ' : 6,\n",
    "              'surprised      ' : 7,'rightlight     ' : 8, 'sleepy         ' : 9, 'centerlight    ' : 10}\n",
    "data['expression'] = [expression[item] for item in data['expression']]"
   ]
  },
  {
   "cell_type": "code",
   "execution_count": null,
   "metadata": {},
   "outputs": [],
   "source": [
    "from sklearn.model_selection import train_test_split\n",
    "train, test = train_test_split(data.expression, test_size=0.33)\n",
    "#print (train,test)"
   ]
  },
  {
   "cell_type": "code",
   "execution_count": null,
   "metadata": {},
   "outputs": [],
   "source": [
    "y_train, y_test = [], []\n",
    "for ids in train:\n",
    "    y_train.append(ids)\n",
    "#print(y_train)\n",
    "for ids in test:\n",
    "    y_test.append(ids)\n",
    "#print(y_test)"
   ]
  },
  {
   "cell_type": "markdown",
   "metadata": {},
   "source": [
    "### Gaussian Mixture Model"
   ]
  },
  {
   "cell_type": "code",
   "execution_count": null,
   "metadata": {},
   "outputs": [],
   "source": [
    "from sklearn.mixture import GaussianMixture\n",
    "A = train.values.tolist()\n",
    "B = test.values.tolist()\n",
    "gmm = GaussianMixture(n_components=11).fit(A,y_train)\n",
    "pred = gmm.predict(B)\n",
    "count = 0\n",
    "for i in range(len(pred)):\n",
    "    if pred[i] == y_test[i]:\n",
    "        count += 1\n",
    "print(\"Accuracy:\", (accuracy_score(pred, y_test))*100,\"%\")"
   ]
  },
  {
   "cell_type": "code",
   "execution_count": null,
   "metadata": {},
   "outputs": [],
   "source": []
  }
 ],
 "metadata": {
  "kernelspec": {
   "display_name": "Python 3",
   "language": "python",
   "name": "python3"
  },
  "language_info": {
   "codemirror_mode": {
    "name": "ipython",
    "version": 3
   },
   "file_extension": ".py",
   "mimetype": "text/x-python",
   "name": "python",
   "nbconvert_exporter": "python",
   "pygments_lexer": "ipython3",
   "version": "3.6.5"
  }
 },
 "nbformat": 4,
 "nbformat_minor": 2
}
